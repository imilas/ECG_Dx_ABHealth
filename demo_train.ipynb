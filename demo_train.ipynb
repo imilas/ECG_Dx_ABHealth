{
 "cells": [
  {
   "cell_type": "code",
   "execution_count": 6,
   "id": "cc5c14d4-e9e1-457f-a52f-dc8e207e55c2",
   "metadata": {
    "tags": []
   },
   "outputs": [],
   "source": [
    "import tensorflow as tf\n",
    "from tensorflow import keras\n",
    "from tensorflow.keras.optimizers import Adam\n",
    "from tensorflow.keras.callbacks import (ModelCheckpoint, TensorBoard, ReduceLROnPlateau,\n",
    "                                        CSVLogger, EarlyStopping)\n",
    "from tensorflow.keras.layers import (\n",
    "    Input, Conv1D, MaxPooling1D, Dropout, BatchNormalization, Activation, Add, Flatten, Dense)\n",
    "from tensorflow.keras.models import Model\n",
    "import datetime\n",
    "import pandas as pd\n",
    "import pickle\n",
    "import demo_model\n",
    "import numpy as np\n",
    "\n",
    "model_name = \"demo_model\""
   ]
  },
  {
   "cell_type": "markdown",
   "id": "4bf1d0b7-2438-4ff5-bb19-3d03370f871d",
   "metadata": {},
   "source": [
    "# load demo data"
   ]
  },
  {
   "cell_type": "code",
   "execution_count": 7,
   "id": "a85e6e45-a9c4-468b-a75d-c34dd1df9e4c",
   "metadata": {
    "tags": []
   },
   "outputs": [],
   "source": [
    "demo_agesex_features = pd.read_csv(\"demo_data/demo_asfeats.csv\") # ecgId (used for path) + tabular features \n",
    "demo_ecgs = [\"ecg_%d\"%i for i in range(len(demo_agesex_features))] # paths to ecg files, assuming they're numpy arrays\n",
    "demo_labels = pd.read_csv(\"demo_data/demo_labels.csv\",index_col=0) "
   ]
  },
  {
   "cell_type": "markdown",
   "id": "dfaab2bc-7479-4d1d-ad44-8de80cc80099",
   "metadata": {},
   "source": [
    "# Create generators and train"
   ]
  },
  {
   "cell_type": "code",
   "execution_count": 8,
   "id": "4fd485c4-ea18-4d2d-8c59-dcbd24c3c7e6",
   "metadata": {
    "tags": []
   },
   "outputs": [],
   "source": [
    "\n",
    "training_generator = demo_model.DataGenerator(demo_ecgs, demo_labels,n_classes=demo_labels.shape[1],age_sex=demo_agesex_features)\n",
    "validation_generator = demo_model.DataGenerator(demo_ecgs, demo_labels,n_classes=demo_labels.shape[1],age_sex=demo_agesex_features)"
   ]
  },
  {
   "cell_type": "code",
   "execution_count": 9,
   "id": "275deb89-8cf6-41cd-a92a-edea3c9eda5b",
   "metadata": {
    "tags": []
   },
   "outputs": [
    {
     "name": "stderr",
     "output_type": "stream",
     "text": [
      "2023-04-04 14:14:34.375865: I tensorflow/compiler/jit/xla_cpu_device.cc:41] Not creating XLA devices, tf_xla_enable_xla_devices not set\n",
      "2023-04-04 14:14:34.376660: I tensorflow/stream_executor/platform/default/dso_loader.cc:49] Successfully opened dynamic library libcuda.so.1\n",
      "2023-04-04 14:14:34.435434: I tensorflow/stream_executor/cuda/cuda_gpu_executor.cc:941] successful NUMA node read from SysFS had negative value (-1), but there must be at least one NUMA node, so returning NUMA node zero\n",
      "2023-04-04 14:14:34.435731: I tensorflow/core/common_runtime/gpu/gpu_device.cc:1720] Found device 0 with properties: \n",
      "pciBusID: 0000:0a:00.0 name: NVIDIA GeForce GTX 1080 Ti computeCapability: 6.1\n",
      "coreClock: 1.582GHz coreCount: 28 deviceMemorySize: 10.90GiB deviceMemoryBandwidth: 451.17GiB/s\n",
      "2023-04-04 14:14:34.435755: I tensorflow/stream_executor/platform/default/dso_loader.cc:49] Successfully opened dynamic library libcudart.so.10.1\n",
      "2023-04-04 14:14:34.437472: I tensorflow/stream_executor/platform/default/dso_loader.cc:49] Successfully opened dynamic library libcublas.so.10\n",
      "2023-04-04 14:14:34.437511: I tensorflow/stream_executor/platform/default/dso_loader.cc:49] Successfully opened dynamic library libcublasLt.so.10\n",
      "2023-04-04 14:14:34.439137: I tensorflow/stream_executor/platform/default/dso_loader.cc:49] Successfully opened dynamic library libcufft.so.10\n",
      "2023-04-04 14:14:34.439436: I tensorflow/stream_executor/platform/default/dso_loader.cc:49] Successfully opened dynamic library libcurand.so.10\n",
      "2023-04-04 14:14:34.441227: I tensorflow/stream_executor/platform/default/dso_loader.cc:49] Successfully opened dynamic library libcusolver.so.10\n",
      "2023-04-04 14:14:34.442336: I tensorflow/stream_executor/platform/default/dso_loader.cc:49] Successfully opened dynamic library libcusparse.so.10\n",
      "2023-04-04 14:14:34.446207: I tensorflow/stream_executor/platform/default/dso_loader.cc:49] Successfully opened dynamic library libcudnn.so.7\n",
      "2023-04-04 14:14:34.446348: I tensorflow/stream_executor/cuda/cuda_gpu_executor.cc:941] successful NUMA node read from SysFS had negative value (-1), but there must be at least one NUMA node, so returning NUMA node zero\n",
      "2023-04-04 14:14:34.446578: I tensorflow/stream_executor/cuda/cuda_gpu_executor.cc:941] successful NUMA node read from SysFS had negative value (-1), but there must be at least one NUMA node, so returning NUMA node zero\n",
      "2023-04-04 14:14:34.446712: I tensorflow/core/common_runtime/gpu/gpu_device.cc:1862] Adding visible gpu devices: 0\n",
      "2023-04-04 14:14:34.447056: I tensorflow/core/platform/cpu_feature_guard.cc:142] This TensorFlow binary is optimized with oneAPI Deep Neural Network Library (oneDNN) to use the following CPU instructions in performance-critical operations:  SSE4.1 SSE4.2 AVX AVX2 FMA\n",
      "To enable them in other operations, rebuild TensorFlow with the appropriate compiler flags.\n",
      "2023-04-04 14:14:34.448642: I tensorflow/compiler/jit/xla_gpu_device.cc:99] Not creating XLA devices, tf_xla_enable_xla_devices not set\n",
      "2023-04-04 14:14:34.448760: I tensorflow/stream_executor/cuda/cuda_gpu_executor.cc:941] successful NUMA node read from SysFS had negative value (-1), but there must be at least one NUMA node, so returning NUMA node zero\n",
      "2023-04-04 14:14:34.448919: I tensorflow/core/common_runtime/gpu/gpu_device.cc:1720] Found device 0 with properties: \n",
      "pciBusID: 0000:0a:00.0 name: NVIDIA GeForce GTX 1080 Ti computeCapability: 6.1\n",
      "coreClock: 1.582GHz coreCount: 28 deviceMemorySize: 10.90GiB deviceMemoryBandwidth: 451.17GiB/s\n",
      "2023-04-04 14:14:34.448941: I tensorflow/stream_executor/platform/default/dso_loader.cc:49] Successfully opened dynamic library libcudart.so.10.1\n",
      "2023-04-04 14:14:34.448964: I tensorflow/stream_executor/platform/default/dso_loader.cc:49] Successfully opened dynamic library libcublas.so.10\n",
      "2023-04-04 14:14:34.448978: I tensorflow/stream_executor/platform/default/dso_loader.cc:49] Successfully opened dynamic library libcublasLt.so.10\n",
      "2023-04-04 14:14:34.448991: I tensorflow/stream_executor/platform/default/dso_loader.cc:49] Successfully opened dynamic library libcufft.so.10\n",
      "2023-04-04 14:14:34.449005: I tensorflow/stream_executor/platform/default/dso_loader.cc:49] Successfully opened dynamic library libcurand.so.10\n",
      "2023-04-04 14:14:34.449020: I tensorflow/stream_executor/platform/default/dso_loader.cc:49] Successfully opened dynamic library libcusolver.so.10\n",
      "2023-04-04 14:14:34.449033: I tensorflow/stream_executor/platform/default/dso_loader.cc:49] Successfully opened dynamic library libcusparse.so.10\n",
      "2023-04-04 14:14:34.449046: I tensorflow/stream_executor/platform/default/dso_loader.cc:49] Successfully opened dynamic library libcudnn.so.7\n",
      "2023-04-04 14:14:34.449112: I tensorflow/stream_executor/cuda/cuda_gpu_executor.cc:941] successful NUMA node read from SysFS had negative value (-1), but there must be at least one NUMA node, so returning NUMA node zero\n",
      "2023-04-04 14:14:34.449299: I tensorflow/stream_executor/cuda/cuda_gpu_executor.cc:941] successful NUMA node read from SysFS had negative value (-1), but there must be at least one NUMA node, so returning NUMA node zero\n",
      "2023-04-04 14:14:34.449427: I tensorflow/core/common_runtime/gpu/gpu_device.cc:1862] Adding visible gpu devices: 0\n",
      "2023-04-04 14:14:34.449456: I tensorflow/stream_executor/platform/default/dso_loader.cc:49] Successfully opened dynamic library libcudart.so.10.1\n",
      "2023-04-04 14:14:34.742458: I tensorflow/core/common_runtime/gpu/gpu_device.cc:1261] Device interconnect StreamExecutor with strength 1 edge matrix:\n",
      "2023-04-04 14:14:34.742482: I tensorflow/core/common_runtime/gpu/gpu_device.cc:1267]      0 \n",
      "2023-04-04 14:14:34.742486: I tensorflow/core/common_runtime/gpu/gpu_device.cc:1280] 0:   N \n",
      "2023-04-04 14:14:34.742652: I tensorflow/stream_executor/cuda/cuda_gpu_executor.cc:941] successful NUMA node read from SysFS had negative value (-1), but there must be at least one NUMA node, so returning NUMA node zero\n",
      "2023-04-04 14:14:34.742790: I tensorflow/stream_executor/cuda/cuda_gpu_executor.cc:941] successful NUMA node read from SysFS had negative value (-1), but there must be at least one NUMA node, so returning NUMA node zero\n",
      "2023-04-04 14:14:34.742904: I tensorflow/stream_executor/cuda/cuda_gpu_executor.cc:941] successful NUMA node read from SysFS had negative value (-1), but there must be at least one NUMA node, so returning NUMA node zero\n",
      "2023-04-04 14:14:34.743001: I tensorflow/core/common_runtime/gpu/gpu_device.cc:1406] Created TensorFlow device (/job:localhost/replica:0/task:0/device:GPU:0 with 8832 MB memory) -> physical GPU (device: 0, name: NVIDIA GeForce GTX 1080 Ti, pci bus id: 0000:0a:00.0, compute capability: 6.1)\n"
     ]
    },
    {
     "ename": "NameError",
     "evalue": "name 'label_df' is not defined",
     "output_type": "error",
     "traceback": [
      "\u001b[0;31m---------------------------------------------------------------------------\u001b[0m",
      "\u001b[0;31mNameError\u001b[0m                                 Traceback (most recent call last)",
      "Cell \u001b[0;32mIn[9], line 17\u001b[0m\n\u001b[1;32m      5\u001b[0m callbacks \u001b[38;5;241m=\u001b[39m [ReduceLROnPlateau(monitor\u001b[38;5;241m=\u001b[39m\u001b[38;5;124m'\u001b[39m\u001b[38;5;124mval_loss\u001b[39m\u001b[38;5;124m'\u001b[39m,\n\u001b[1;32m      6\u001b[0m                                factor\u001b[38;5;241m=\u001b[39m\u001b[38;5;241m0.05\u001b[39m,\n\u001b[1;32m      7\u001b[0m                                patience\u001b[38;5;241m=\u001b[39m\u001b[38;5;241m2\u001b[39m,\n\u001b[1;32m      8\u001b[0m                                min_lr\u001b[38;5;241m=\u001b[39mlr \u001b[38;5;241m/\u001b[39m \u001b[38;5;241m100\u001b[39m),\n\u001b[1;32m      9\u001b[0m              EarlyStopping(patience\u001b[38;5;241m=\u001b[39m\u001b[38;5;241m5\u001b[39m,min_delta\u001b[38;5;241m=\u001b[39m\u001b[38;5;241m0.00001\u001b[39m)]\n\u001b[1;32m     10\u001b[0m METRICS \u001b[38;5;241m=\u001b[39m [\n\u001b[1;32m     11\u001b[0m       keras\u001b[38;5;241m.\u001b[39mmetrics\u001b[38;5;241m.\u001b[39mAUC(multi_label\u001b[38;5;241m=\u001b[39m\u001b[38;5;28;01mTrue\u001b[39;00m,),\n\u001b[1;32m     12\u001b[0m       keras\u001b[38;5;241m.\u001b[39mmetrics\u001b[38;5;241m.\u001b[39mPrecision(name\u001b[38;5;241m=\u001b[39m\u001b[38;5;124m'\u001b[39m\u001b[38;5;124mprecision\u001b[39m\u001b[38;5;124m'\u001b[39m),\n\u001b[1;32m     13\u001b[0m       keras\u001b[38;5;241m.\u001b[39mmetrics\u001b[38;5;241m.\u001b[39mRecall(name\u001b[38;5;241m=\u001b[39m\u001b[38;5;124m'\u001b[39m\u001b[38;5;124mrecall\u001b[39m\u001b[38;5;124m'\u001b[39m),\n\u001b[1;32m     14\u001b[0m       keras\u001b[38;5;241m.\u001b[39mmetrics\u001b[38;5;241m.\u001b[39mAUC(name\u001b[38;5;241m=\u001b[39m\u001b[38;5;124m'\u001b[39m\u001b[38;5;124mprc\u001b[39m\u001b[38;5;124m'\u001b[39m, curve\u001b[38;5;241m=\u001b[39m\u001b[38;5;124m'\u001b[39m\u001b[38;5;124mPR\u001b[39m\u001b[38;5;124m'\u001b[39m), \u001b[38;5;66;03m# precision-recall curve\u001b[39;00m\n\u001b[1;32m     15\u001b[0m ]\n\u001b[0;32m---> 17\u001b[0m model \u001b[38;5;241m=\u001b[39m demo_model\u001b[38;5;241m.\u001b[39mget_model_agsx(\u001b[43mlabel_df\u001b[49m\u001b[38;5;241m.\u001b[39mshape[\u001b[38;5;241m1\u001b[39m])\n\u001b[1;32m     18\u001b[0m model\u001b[38;5;241m.\u001b[39mcompile(loss\u001b[38;5;241m=\u001b[39mloss, optimizer\u001b[38;5;241m=\u001b[39mopt, metrics\u001b[38;5;241m=\u001b[39mMETRICS)\n\u001b[1;32m     20\u001b[0m \u001b[38;5;66;03m# Save the BEST model\u001b[39;00m\n",
      "\u001b[0;31mNameError\u001b[0m: name 'label_df' is not defined"
     ]
    }
   ],
   "source": [
    "loss = 'binary_crossentropy'\n",
    "lr = 0.005\n",
    "batch_size = 64\n",
    "opt = Adam(lr)\n",
    "callbacks = [ReduceLROnPlateau(monitor='val_loss',\n",
    "                               factor=0.05,\n",
    "                               patience=2,\n",
    "                               min_lr=lr / 100),\n",
    "             EarlyStopping(patience=5,min_delta=0.00001)]\n",
    "METRICS = [\n",
    "      keras.metrics.AUC(multi_label=True,),\n",
    "      keras.metrics.Precision(name='precision'),\n",
    "      keras.metrics.Recall(name='recall'),\n",
    "      keras.metrics.AUC(name='prc', curve='PR'), # precision-recall curve\n",
    "]\n",
    "\n",
    "model = demo_model.get_model_agsx(label_df.shape[1])\n",
    "model.compile(loss=loss, optimizer=opt, metrics=METRICS)\n",
    "\n",
    "# Save the BEST model\n",
    "callbacks += [ModelCheckpoint('./models/demo/%s'%model_name, save_best_only=True)]\n",
    "model.fit(x= training_generator,\n",
    "                    validation_data=validation_generator,\n",
    "                     epochs=70,\n",
    "                    callbacks=callbacks,\n",
    "                    workers=1)"
   ]
  },
  {
   "cell_type": "code",
   "execution_count": null,
   "id": "5041510c-72c5-489f-97b5-362d4b653d9d",
   "metadata": {},
   "outputs": [],
   "source": []
  }
 ],
 "metadata": {
  "kernelspec": {
   "display_name": "Python 3 (ipykernel)",
   "language": "python",
   "name": "python3"
  },
  "language_info": {
   "codemirror_mode": {
    "name": "ipython",
    "version": 3
   },
   "file_extension": ".py",
   "mimetype": "text/x-python",
   "name": "python",
   "nbconvert_exporter": "python",
   "pygments_lexer": "ipython3",
   "version": "3.8.11"
  }
 },
 "nbformat": 4,
 "nbformat_minor": 5
}
